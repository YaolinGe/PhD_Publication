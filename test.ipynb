{
 "cells": [
  {
   "cell_type": "code",
   "execution_count": 6,
   "metadata": {
    "collapsed": true
   },
   "outputs": [
    {
     "data": {
      "text/plain": "      timestamp        lat        lon           x           y         z  \\\n0  1.625574e+09  63.452591  10.426506  402.269462  211.665154  4.920077   \n1  1.625574e+09  63.452597  10.426508  402.853950  211.780900  4.591500   \n2  1.625574e+09  63.452604  10.426515  403.682650  212.141050  4.437750   \n3  1.625574e+09  63.452612  10.426521  404.514650  212.422200  4.483900   \n4  1.625574e+09  63.452618  10.426528  405.230100  212.768350  4.470800   \n\n          d      sal     temp  \n0 -0.061538  11.1125  16.7595  \n1 -0.089700  11.5095  16.7295  \n2 -0.068950  11.3835  16.7415  \n3 -0.073500  11.7135  16.6970  \n4 -0.079100  11.5590  16.7155  ",
      "text/html": "<div>\n<style scoped>\n    .dataframe tbody tr th:only-of-type {\n        vertical-align: middle;\n    }\n\n    .dataframe tbody tr th {\n        vertical-align: top;\n    }\n\n    .dataframe thead th {\n        text-align: right;\n    }\n</style>\n<table border=\"1\" class=\"dataframe\">\n  <thead>\n    <tr style=\"text-align: right;\">\n      <th></th>\n      <th>timestamp</th>\n      <th>lat</th>\n      <th>lon</th>\n      <th>x</th>\n      <th>y</th>\n      <th>z</th>\n      <th>d</th>\n      <th>sal</th>\n      <th>temp</th>\n    </tr>\n  </thead>\n  <tbody>\n    <tr>\n      <th>0</th>\n      <td>1.625574e+09</td>\n      <td>63.452591</td>\n      <td>10.426506</td>\n      <td>402.269462</td>\n      <td>211.665154</td>\n      <td>4.920077</td>\n      <td>-0.061538</td>\n      <td>11.1125</td>\n      <td>16.7595</td>\n    </tr>\n    <tr>\n      <th>1</th>\n      <td>1.625574e+09</td>\n      <td>63.452597</td>\n      <td>10.426508</td>\n      <td>402.853950</td>\n      <td>211.780900</td>\n      <td>4.591500</td>\n      <td>-0.089700</td>\n      <td>11.5095</td>\n      <td>16.7295</td>\n    </tr>\n    <tr>\n      <th>2</th>\n      <td>1.625574e+09</td>\n      <td>63.452604</td>\n      <td>10.426515</td>\n      <td>403.682650</td>\n      <td>212.141050</td>\n      <td>4.437750</td>\n      <td>-0.068950</td>\n      <td>11.3835</td>\n      <td>16.7415</td>\n    </tr>\n    <tr>\n      <th>3</th>\n      <td>1.625574e+09</td>\n      <td>63.452612</td>\n      <td>10.426521</td>\n      <td>404.514650</td>\n      <td>212.422200</td>\n      <td>4.483900</td>\n      <td>-0.073500</td>\n      <td>11.7135</td>\n      <td>16.6970</td>\n    </tr>\n    <tr>\n      <th>4</th>\n      <td>1.625574e+09</td>\n      <td>63.452618</td>\n      <td>10.426528</td>\n      <td>405.230100</td>\n      <td>212.768350</td>\n      <td>4.470800</td>\n      <td>-0.079100</td>\n      <td>11.5590</td>\n      <td>16.7155</td>\n    </tr>\n  </tbody>\n</table>\n</div>"
     },
     "execution_count": 6,
     "metadata": {},
     "output_type": "execute_result"
    }
   ],
   "source": [
    "path = \"/Users/yaoling/OneDrive - NTNU/MASCOT_PhD/Data/Nidelva/July06/Data/\"\n",
    "\n",
    "import pandas as pd\n",
    "data = pd.read_csv(path + \"DataMerged.csv\")\n",
    "data.head()\n",
    "\n",
    "\n"
   ]
  },
  {
   "cell_type": "code",
   "execution_count": null,
   "outputs": [],
   "source": [],
   "metadata": {
    "collapsed": false,
    "pycharm": {
     "name": "#%%\n"
    }
   }
  }
 ],
 "metadata": {
  "kernelspec": {
   "display_name": "Python 3",
   "language": "python",
   "name": "python3"
  },
  "language_info": {
   "codemirror_mode": {
    "name": "ipython",
    "version": 2
   },
   "file_extension": ".py",
   "mimetype": "text/x-python",
   "name": "python",
   "nbconvert_exporter": "python",
   "pygments_lexer": "ipython2",
   "version": "2.7.6"
  }
 },
 "nbformat": 4,
 "nbformat_minor": 0
}